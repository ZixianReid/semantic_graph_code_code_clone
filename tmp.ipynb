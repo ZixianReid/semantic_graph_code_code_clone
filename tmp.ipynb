{
 "cells": [
  {
   "cell_type": "code",
   "execution_count": 3,
   "metadata": {},
   "outputs": [
    {
     "name": "stdout",
     "output_type": "stream",
     "text": [
      "{'train': {'positive': 610247, 'negative': 601376}, 'test': {'positive': 73796, 'negative': 348982}, 'val': {'positive': 54818, 'negative': 348298}}\n"
     ]
    }
   ],
   "source": [
    "base_path = '/home/zixian/PycharmProjects/semantic_graph_code_code_clone/data/data_source/dataset_java/clone_labels.txt'\n",
    "\n",
    "def calculate_demographics(file_path):\n",
    "    demographics = {\n",
    "        'train': {'positive': 0, 'negative': 0},\n",
    "        'test': {'positive': 0, 'negative': 0},\n",
    "        'val': {'positive': 0, 'negative': 0}\n",
    "    }\n",
    "    with open(file_path, 'r') as file:\n",
    "        for line in file:\n",
    "            attributes = line.strip().split(',')\n",
    "            split_type = attributes[3]  # Fourth column for split type\n",
    "            label = attributes[2]  # Third column for clone label\n",
    "            if split_type == '0':\n",
    "                if label == '0':\n",
    "                    demographics['train']['negative'] += 1\n",
    "                elif label == '1':\n",
    "                    demographics['train']['positive'] += 1\n",
    "            elif split_type == '1':\n",
    "                if label == '0':\n",
    "                    demographics['test']['negative'] += 1\n",
    "                elif label == '1':\n",
    "                    demographics['test']['positive'] += 1\n",
    "            elif split_type == '2':\n",
    "                if label == '0':\n",
    "                    demographics['val']['negative'] += 1\n",
    "                elif label == '1':\n",
    "                    demographics['val']['positive'] += 1\n",
    "    return demographics\n",
    "\n",
    "demographics = calculate_demographics(base_path)\n",
    "print(demographics)\n"
   ]
  },
  {
   "cell_type": "code",
   "execution_count": 2,
   "metadata": {},
   "outputs": [
    {
     "name": "stdout",
     "output_type": "stream",
     "text": [
      "Number of Java files: 8876\n",
      "Average lines of code per file: 34.17\n"
     ]
    }
   ],
   "source": [
    "import os\n",
    "\n",
    "def get_java_files_info(directory):\n",
    "    total_lines = 0\n",
    "    file_count = 0\n",
    "\n",
    "    for root, _, files in os.walk(directory):\n",
    "        for file in files:\n",
    "            if file.endswith('.java'):\n",
    "                file_count += 1\n",
    "                with open(os.path.join(root, file), 'r', encoding='utf-8') as f:\n",
    "                    total_lines += sum(1 for _ in f)\n",
    "\n",
    "    if file_count == 0:\n",
    "        return 0, 0\n",
    "\n",
    "    average_lines = total_lines / file_count\n",
    "    return average_lines, file_count\n",
    "\n",
    "directory = '/home/zixian/PycharmProjects/semantic_graph_code_code_clone/benchmark/united_process/bigclonebench/bigclonebench'\n",
    "average_lines, file_count = get_java_files_info(directory)\n",
    "\n",
    "print(f\"Number of Java files: {file_count}\")\n",
    "print(f\"Average lines of code per file: {average_lines:.2f}\")"
   ]
  }
 ],
 "metadata": {
  "kernelspec": {
   "display_name": "semantic_graph_code_clone",
   "language": "python",
   "name": "python3"
  },
  "language_info": {
   "codemirror_mode": {
    "name": "ipython",
    "version": 3
   },
   "file_extension": ".py",
   "mimetype": "text/x-python",
   "name": "python",
   "nbconvert_exporter": "python",
   "pygments_lexer": "ipython3",
   "version": "3.8.19"
  }
 },
 "nbformat": 4,
 "nbformat_minor": 2
}
