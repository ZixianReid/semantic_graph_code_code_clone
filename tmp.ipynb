{
 "cells": [
  {
   "cell_type": "code",
   "execution_count": 1,
   "metadata": {},
   "outputs": [],
   "source": [
    "import torch\n",
    "from torch_geometric.data import Data\n",
    "from torch_geometric.nn import GCNConv\n",
    "\n",
    "# Define node features (2 nodes, 3-dimensional feature vectors)\n",
    "x = torch.tensor([[1.0, 2.0, 3.0], \n",
    "                  [4.0, 5.0, 6.0]], dtype=torch.float)\n",
    "\n",
    "# Define edges (edge_index), including multiple edges between nodes 0 and 1\n",
    "edge_index = torch.tensor([\n",
    "    [0, 1, 0, 1],  # Source nodes\n",
    "    [1, 0, 1, 0]   # Target nodes\n",
    "], dtype=torch.long)\n",
    "\n",
    "# Create graph data\n",
    "data = Data(x=x, edge_index=edge_index)\n",
    "\n",
    "\n",
    "edge_attr = torch.tensor([1.0, 1.0, 2.0, 2.0], dtype=torch.float)\n",
    "\n",
    "\n",
    "\n"
   ]
  },
  {
   "cell_type": "code",
   "execution_count": null,
   "metadata": {},
   "outputs": [
    {
     "data": {
      "text/plain": [
       "tensor([[[0., 2.],\n",
       "         [2., 0.]]])"
      ]
     },
     "execution_count": 3,
     "metadata": {},
     "output_type": "execute_result"
    }
   ],
   "source": []
  }
 ],
 "metadata": {
  "kernelspec": {
   "display_name": "semantic_graph_code_clone",
   "language": "python",
   "name": "python3"
  },
  "language_info": {
   "codemirror_mode": {
    "name": "ipython",
    "version": 3
   },
   "file_extension": ".py",
   "mimetype": "text/x-python",
   "name": "python",
   "nbconvert_exporter": "python",
   "pygments_lexer": "ipython3",
   "version": "3.8.19"
  }
 },
 "nbformat": 4,
 "nbformat_minor": 2
}
