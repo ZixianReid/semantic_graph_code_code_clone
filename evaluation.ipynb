{
 "cells": [
  {
   "cell_type": "code",
   "execution_count": 1,
   "metadata": {},
   "outputs": [
    {
     "name": "stderr",
     "output_type": "stream",
     "text": [
      "/home/zixian/.conda/envs/semantic_graph_code_clone/lib/python3.8/site-packages/torch_geometric/deprecation.py:26: UserWarning: 'nn.glob.GlobalAttention' is deprecated, use 'nn.aggr.AttentionalAggregation' instead\n",
      "  warnings.warn(out)\n",
      "Processing Dataset: 100%|██████████| 1500/1500 [00:03<00:00, 461.02it/s]\n"
     ]
    }
   ],
   "source": [
    "from util.setting import log, init_logging\n",
    "import json\n",
    "from train.train_gmn import evaluation_gmn\n",
    "from nets.load_net import gnn_model\n",
    "from data.data import LoadData\n",
    "import torch\n",
    "\n",
    "init_logging(20, 'test_gmn.log', '/home/zixian/PycharmProjects/semantic_graph_code_code_clone/out/type_ast_gmn_bcb' )\n",
    "\n",
    "checkpint_path = '/home/zixian/PycharmProjects/semantic_graph_code_code_clone/out/type_ast_gmn_bcb/checkpoints/graph_match_nerual_network_JavaBigCloneBench_GPU0_17h58m32s_on_Nov_12_2024/model_0.pth'\n",
    "\n",
    "config = '/home/zixian/PycharmProjects/semantic_graph_code_code_clone/configs/type_ast_2_gmm_bcb.json'\n",
    "\n",
    "with open(config) as f:\n",
    "    config = json.load(f)\n",
    "\n",
    "MODEL_NAME = config['model']\n",
    "params = config['params']\n",
    "\n",
    "\n",
    "net_params = config['net_params']\n",
    "net_params['device'] = 'cuda:0'\n",
    "LANGUAGE = config['language']\n",
    "dataset_params = config['dataset_params']\n",
    "dataset = LoadData(LANGUAGE, dataset_params)\n",
    "vocablen, trainset, valset, testset = dataset.vocab_length, dataset.train_data, dataset.val_data, dataset.test_data\n",
    "net_params['vocablen'] = 88379\n",
    "model = gnn_model(MODEL_NAME, net_params)\n",
    "checkpoint = torch.load(checkpint_path)\n",
    "model.load_state_dict(torch.load(checkpint_path))\n",
    "model.to(net_params['device'])\n",
    "\n",
    "evaluation_gmn(model, testset, params, net_params)\n"
   ]
  }
 ],
 "metadata": {
  "kernelspec": {
   "display_name": "semantic_graph_code_clone",
   "language": "python",
   "name": "python3"
  },
  "language_info": {
   "codemirror_mode": {
    "name": "ipython",
    "version": 3
   },
   "file_extension": ".py",
   "mimetype": "text/x-python",
   "name": "python",
   "nbconvert_exporter": "python",
   "pygments_lexer": "ipython3",
   "version": "3.8.19"
  }
 },
 "nbformat": 4,
 "nbformat_minor": 2
}
