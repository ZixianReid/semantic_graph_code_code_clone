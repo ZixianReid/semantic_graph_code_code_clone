{
 "cells": [
  {
   "cell_type": "code",
   "execution_count": 2,
   "id": "8bbaf1c9",
   "metadata": {},
   "outputs": [],
   "source": [
    "from datasets import load_dataset\n",
    "\n",
    "dataset = load_dataset(\"Reid996/OJClone_code_clone\")\n",
    "\n",
    "dataset_train = dataset[\"train\"]\n",
    "dataset_test = dataset[\"test\"]\n",
    "dataset_validation = dataset[\"validation\"]\n"
   ]
  }
 ],
 "metadata": {
  "kernelspec": {
   "display_name": "LLM_code_clone_validation",
   "language": "python",
   "name": "python3"
  },
  "language_info": {
   "codemirror_mode": {
    "name": "ipython",
    "version": 3
   },
   "file_extension": ".py",
   "mimetype": "text/x-python",
   "name": "python",
   "nbconvert_exporter": "python",
   "pygments_lexer": "ipython3",
   "version": "3.8.19"
  }
 },
 "nbformat": 4,
 "nbformat_minor": 5
}
